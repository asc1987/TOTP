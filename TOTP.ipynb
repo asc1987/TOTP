{
 "cells": [
  {
   "cell_type": "code",
   "execution_count": 1,
   "metadata": {
    "scrolled": false
   },
   "outputs": [
    {
     "data": {
      "text/html": [
       "<html>\\(\\displaystyle \\begin{array}{l}\n",
       "\\verb| |\\verb|pos|\\verb| |\\verb|at|\\verb| |\\verb|zero|\\\\\n",
       "\\verb| |\\verb|pos|\\verb| |\\verb|at|\\verb| |\\verb|T|\\\\\n",
       "\\verb| |\\verb|vel|\\verb| |\\verb|at|\\verb| |\\verb|zero|\\\\\n",
       "\\verb| |\\verb|vel|\\verb| |\\verb|at|\\verb| |\\verb|T|\\\\\n",
       "\n",
       "\\end{array} \\verb|=| \\left(\\begin{array}{rrrr}\n",
       "1 & 0 & 0 & 0 \\\\\n",
       "1 & T & T^{2} & T^{3} \\\\\n",
       "0 & 1 & 0 & 0 \\\\\n",
       "0 & 1 & 2 \\, T & 3 \\, T^{2}\n",
       "\\end{array}\\right)\\)</html>"
      ],
      "text/latex": [
       "$\\displaystyle \\begin{array}{l}\n",
       "\\verb| |\\verb|pos|\\verb| |\\verb|at|\\verb| |\\verb|zero|\\\\\n",
       "\\verb| |\\verb|pos|\\verb| |\\verb|at|\\verb| |\\verb|T|\\\\\n",
       "\\verb| |\\verb|vel|\\verb| |\\verb|at|\\verb| |\\verb|zero|\\\\\n",
       "\\verb| |\\verb|vel|\\verb| |\\verb|at|\\verb| |\\verb|T|\\\\\n",
       "\n",
       "\\end{array} \\verb|=| \\left(\\begin{array}{rrrr}\n",
       "1 & 0 & 0 & 0 \\\\\n",
       "1 & T & T^{2} & T^{3} \\\\\n",
       "0 & 1 & 0 & 0 \\\\\n",
       "0 & 1 & 2 \\, T & 3 \\, T^{2}\n",
       "\\end{array}\\right)$"
      ],
      "text/plain": [
       "' pos at zero \\n pos at T \\n vel at zero \\n vel at T \\n ' '=' [    1     0     0     0]\n",
       "[    1     T   T^2   T^3]\n",
       "[    0     1     0     0]\n",
       "[    0     1   2*T 3*T^2]"
      ]
     },
     "metadata": {},
     "output_type": "display_data"
    }
   ],
   "source": [
    "reset()\n",
    "\n",
    "#t1 will be zero\n",
    "# position_of_time as a + b*t + c*t² + d*t³\n",
    "# Matrix * vector(a,b,c,d) = vector(p1,p2,v1,v2) at p1,v1 at time=0 , p2,v2 at time=T\n",
    "var('T')\n",
    "M = matrix([[1,0,0,0], [1,T,T**2,T**3], [0,1,0,0], [0,1,2*T,3*T**2]])\n",
    "text = \" pos at zero \\n pos at T \\n vel at zero \\n vel at T \\n \"\n",
    "\n",
    "show(text,'=',M)"
   ]
  },
  {
   "cell_type": "code",
   "execution_count": 2,
   "metadata": {
    "scrolled": false
   },
   "outputs": [
    {
     "data": {
      "text/html": [
       "<html>\\(\\displaystyle \\left(\\begin{array}{rrrr}\n",
       "1 & 0 & 0 & 0 \\\\\n",
       "0 & 0 & 1 & 0 \\\\\n",
       "-\\frac{3}{T^{2}} & \\frac{3}{T^{2}} & -\\frac{2}{T} & -\\frac{1}{T} \\\\\n",
       "\\frac{2}{T^{3}} & -\\frac{2}{T^{3}} & \\frac{1}{T^{2}} & \\frac{1}{T^{2}}\n",
       "\\end{array}\\right)\\)</html>"
      ],
      "text/latex": [
       "$\\displaystyle \\left(\\begin{array}{rrrr}\n",
       "1 & 0 & 0 & 0 \\\\\n",
       "0 & 0 & 1 & 0 \\\\\n",
       "-\\frac{3}{T^{2}} & \\frac{3}{T^{2}} & -\\frac{2}{T} & -\\frac{1}{T} \\\\\n",
       "\\frac{2}{T^{3}} & -\\frac{2}{T^{3}} & \\frac{1}{T^{2}} & \\frac{1}{T^{2}}\n",
       "\\end{array}\\right)$"
      ],
      "text/plain": [
       "[     1      0      0      0]\n",
       "[     0      0      1      0]\n",
       "[-3/T^2  3/T^2   -2/T   -1/T]\n",
       "[ 2/T^3 -2/T^3 T^(-2) T^(-2)]"
      ]
     },
     "metadata": {},
     "output_type": "display_data"
    }
   ],
   "source": [
    "inv_M = M.inverse()\n",
    "text = \" a \\n b \\n c \\n d \"\n",
    "\n",
    "#show(text,'=',inv_M)\n",
    "show(inv_M)"
   ]
  },
  {
   "cell_type": "code",
   "execution_count": 3,
   "metadata": {
    "scrolled": false
   },
   "outputs": [
    {
     "data": {
      "text/html": [
       "<html>\\(\\displaystyle \\left(\\begin{array}{r}\n",
       "p_{1} \\\\\n",
       "v_{1} \\\\\n",
       "-\\frac{2 \\, T v_{1} + T v_{2} + 3 \\, p_{1} - 3 \\, p_{2}}{T^{2}} \\\\\n",
       "\\frac{T v_{1} + T v_{2} + 2 \\, p_{1} - 2 \\, p_{2}}{T^{3}}\n",
       "\\end{array}\\right)\\)</html>"
      ],
      "text/latex": [
       "$\\displaystyle \\left(\\begin{array}{r}\n",
       "p_{1} \\\\\n",
       "v_{1} \\\\\n",
       "-\\frac{2 \\, T v_{1} + T v_{2} + 3 \\, p_{1} - 3 \\, p_{2}}{T^{2}} \\\\\n",
       "\\frac{T v_{1} + T v_{2} + 2 \\, p_{1} - 2 \\, p_{2}}{T^{3}}\n",
       "\\end{array}\\right)$"
      ],
      "text/plain": [
       "[                                p1]\n",
       "[                                v1]\n",
       "[-(2*T*v1 + T*v2 + 3*p1 - 3*p2)/T^2]\n",
       "[   (T*v1 + T*v2 + 2*p1 - 2*p2)/T^3]"
      ]
     },
     "metadata": {},
     "output_type": "display_data"
    },
    {
     "data": {
      "text/html": [
       "<html>\\(\\displaystyle \\left(1,\\,t,\\,t^{2},\\,t^{3}\\right) \\left(\\begin{array}{r}\n",
       "p_{1} \\\\\n",
       "v_{1} \\\\\n",
       "-\\frac{2 \\, T v_{1} + T v_{2} + 3 \\, p_{1} - 3 \\, p_{2}}{T^{2}} \\\\\n",
       "\\frac{T v_{1} + T v_{2} + 2 \\, p_{1} - 2 \\, p_{2}}{T^{3}}\n",
       "\\end{array}\\right)\\)</html>"
      ],
      "text/latex": [
       "$\\displaystyle \\left(1,\\,t,\\,t^{2},\\,t^{3}\\right) \\left(\\begin{array}{r}\n",
       "p_{1} \\\\\n",
       "v_{1} \\\\\n",
       "-\\frac{2 \\, T v_{1} + T v_{2} + 3 \\, p_{1} - 3 \\, p_{2}}{T^{2}} \\\\\n",
       "\\frac{T v_{1} + T v_{2} + 2 \\, p_{1} - 2 \\, p_{2}}{T^{3}}\n",
       "\\end{array}\\right)$"
      ],
      "text/plain": [
       "(1, t, t^2, t^3) [                                p1]\n",
       "[                                v1]\n",
       "[-(2*T*v1 + T*v2 + 3*p1 - 3*p2)/T^2]\n",
       "[   (T*v1 + T*v2 + 2*p1 - 2*p2)/T^3]"
      ]
     },
     "metadata": {},
     "output_type": "display_data"
    }
   ],
   "source": [
    "# going from \n",
    "#vector (p1,v1,p2,v2) --> (a,b,c,d)\n",
    "var('p1','p2','v1','v2')\n",
    "v = vector([p1,p2,v1,v2])\n",
    "coeff = M.solve_right(v)\n",
    "show(M.solve_right(v).simplify_full().column())\n",
    "var('t')\n",
    "show(vector([1,t,t**2,t**3]),M.solve_right(v).simplify_full().column())\n",
    "#printing the coefficients of the polynom\n",
    "# a + b*t + c*t² + d*t³\n",
    "# to achieve (p1,p2,v1,v2) at t=0 and t=T"
   ]
  },
  {
   "cell_type": "code",
   "execution_count": 4,
   "metadata": {
    "scrolled": false
   },
   "outputs": [],
   "source": [
    "var('t')\n",
    "f(t)   = coeff[0] + coeff[1]*t + coeff[2]*t**2 + coeff[3]*t**3\n",
    "f_vel  = f.derivative(t,1)\n",
    "f_acc  = f.derivative(t,2)"
   ]
  },
  {
   "cell_type": "code",
   "execution_count": 5,
   "metadata": {
    "scrolled": false
   },
   "outputs": [
    {
     "name": "stdout",
     "output_type": "stream",
     "text": [
      "Position = f( t )\n"
     ]
    },
    {
     "data": {
      "text/html": [
       "<html>\\(\\displaystyle t \\ {\\mapsto}\\ -t^{2} {\\left(\\frac{v_{1} + v_{2} + \\frac{2 \\, {\\left(p_{1} - p_{2}\\right)}}{T}}{T} + \\frac{v_{1} + \\frac{p_{1} - p_{2}}{T}}{T}\\right)} + \\frac{t^{3} {\\left(v_{1} + v_{2} + \\frac{2 \\, {\\left(p_{1} - p_{2}\\right)}}{T}\\right)}}{T^{2}} + t v_{1} + p_{1}\\)</html>"
      ],
      "text/latex": [
       "$\\displaystyle t \\ {\\mapsto}\\ -t^{2} {\\left(\\frac{v_{1} + v_{2} + \\frac{2 \\, {\\left(p_{1} - p_{2}\\right)}}{T}}{T} + \\frac{v_{1} + \\frac{p_{1} - p_{2}}{T}}{T}\\right)} + \\frac{t^{3} {\\left(v_{1} + v_{2} + \\frac{2 \\, {\\left(p_{1} - p_{2}\\right)}}{T}\\right)}}{T^{2}} + t v_{1} + p_{1}$"
      ],
      "text/plain": [
       "t |--> -t^2*((v1 + v2 + 2*(p1 - p2)/T)/T + (v1 + (p1 - p2)/T)/T) + t^3*(v1 + v2 + 2*(p1 - p2)/T)/T^2 + t*v1 + p1"
      ]
     },
     "metadata": {},
     "output_type": "display_data"
    },
    {
     "name": "stdout",
     "output_type": "stream",
     "text": [
      "Velocity = f( t )\n"
     ]
    },
    {
     "data": {
      "text/html": [
       "<html>\\(\\displaystyle t \\ {\\mapsto}\\ -2 \\, t {\\left(\\frac{v_{1} + v_{2} + \\frac{2 \\, {\\left(p_{1} - p_{2}\\right)}}{T}}{T} + \\frac{v_{1} + \\frac{p_{1} - p_{2}}{T}}{T}\\right)} + \\frac{3 \\, t^{2} {\\left(v_{1} + v_{2} + \\frac{2 \\, {\\left(p_{1} - p_{2}\\right)}}{T}\\right)}}{T^{2}} + v_{1}\\)</html>"
      ],
      "text/latex": [
       "$\\displaystyle t \\ {\\mapsto}\\ -2 \\, t {\\left(\\frac{v_{1} + v_{2} + \\frac{2 \\, {\\left(p_{1} - p_{2}\\right)}}{T}}{T} + \\frac{v_{1} + \\frac{p_{1} - p_{2}}{T}}{T}\\right)} + \\frac{3 \\, t^{2} {\\left(v_{1} + v_{2} + \\frac{2 \\, {\\left(p_{1} - p_{2}\\right)}}{T}\\right)}}{T^{2}} + v_{1}$"
      ],
      "text/plain": [
       "t |--> -2*t*((v1 + v2 + 2*(p1 - p2)/T)/T + (v1 + (p1 - p2)/T)/T) + 3*t^2*(v1 + v2 + 2*(p1 - p2)/T)/T^2 + v1"
      ]
     },
     "metadata": {},
     "output_type": "display_data"
    },
    {
     "name": "stdout",
     "output_type": "stream",
     "text": [
      "Acceleration = f( t )\n"
     ]
    },
    {
     "data": {
      "text/html": [
       "<html>\\(\\displaystyle t \\ {\\mapsto}\\ -\\frac{2 \\, {\\left(v_{1} + v_{2} + \\frac{2 \\, {\\left(p_{1} - p_{2}\\right)}}{T}\\right)}}{T} + \\frac{6 \\, t {\\left(v_{1} + v_{2} + \\frac{2 \\, {\\left(p_{1} - p_{2}\\right)}}{T}\\right)}}{T^{2}} - \\frac{2 \\, {\\left(v_{1} + \\frac{p_{1} - p_{2}}{T}\\right)}}{T}\\)</html>"
      ],
      "text/latex": [
       "$\\displaystyle t \\ {\\mapsto}\\ -\\frac{2 \\, {\\left(v_{1} + v_{2} + \\frac{2 \\, {\\left(p_{1} - p_{2}\\right)}}{T}\\right)}}{T} + \\frac{6 \\, t {\\left(v_{1} + v_{2} + \\frac{2 \\, {\\left(p_{1} - p_{2}\\right)}}{T}\\right)}}{T^{2}} - \\frac{2 \\, {\\left(v_{1} + \\frac{p_{1} - p_{2}}{T}\\right)}}{T}$"
      ],
      "text/plain": [
       "t |--> -2*(v1 + v2 + 2*(p1 - p2)/T)/T + 6*t*(v1 + v2 + 2*(p1 - p2)/T)/T^2 - 2*(v1 + (p1 - p2)/T)/T"
      ]
     },
     "metadata": {},
     "output_type": "display_data"
    },
    {
     "name": "stdout",
     "output_type": "stream",
     "text": [
      "####################################################################################################\n",
      "first time where v=0\n"
     ]
    },
    {
     "data": {
      "text/html": [
       "<html>\\(\\displaystyle t = \\frac{2 \\, T^{2} v_{1} + T^{2} v_{2} + 3 \\, T p_{1} - 3 \\, T p_{2} - \\sqrt{T^{2} v_{1}^{2} + T^{2} v_{2}^{2} + 9 \\, p_{1}^{2} - 18 \\, p_{1} p_{2} + 9 \\, p_{2}^{2} + 6 \\, {\\left(T p_{1} - T p_{2}\\right)} v_{1} + {\\left(T^{2} v_{1} + 6 \\, T p_{1} - 6 \\, T p_{2}\\right)} v_{2}} T}{3 \\, {\\left(T v_{1} + T v_{2} + 2 \\, p_{1} - 2 \\, p_{2}\\right)}}\\)</html>"
      ],
      "text/latex": [
       "$\\displaystyle t = \\frac{2 \\, T^{2} v_{1} + T^{2} v_{2} + 3 \\, T p_{1} - 3 \\, T p_{2} - \\sqrt{T^{2} v_{1}^{2} + T^{2} v_{2}^{2} + 9 \\, p_{1}^{2} - 18 \\, p_{1} p_{2} + 9 \\, p_{2}^{2} + 6 \\, {\\left(T p_{1} - T p_{2}\\right)} v_{1} + {\\left(T^{2} v_{1} + 6 \\, T p_{1} - 6 \\, T p_{2}\\right)} v_{2}} T}{3 \\, {\\left(T v_{1} + T v_{2} + 2 \\, p_{1} - 2 \\, p_{2}\\right)}}$"
      ],
      "text/plain": [
       "t == 1/3*(2*T^2*v1 + T^2*v2 + 3*T*p1 - 3*T*p2 - sqrt(T^2*v1^2 + T^2*v2^2 + 9*p1^2 - 18*p1*p2 + 9*p2^2 + 6*(T*p1 - T*p2)*v1 + (T^2*v1 + 6*T*p1 - 6*T*p2)*v2)*T)/(T*v1 + T*v2 + 2*p1 - 2*p2)"
      ]
     },
     "metadata": {},
     "output_type": "display_data"
    },
    {
     "name": "stdout",
     "output_type": "stream",
     "text": [
      "second time where v=0\n"
     ]
    },
    {
     "data": {
      "text/html": [
       "<html>\\(\\displaystyle t = \\frac{2 \\, T^{2} v_{1} + T^{2} v_{2} + 3 \\, T p_{1} - 3 \\, T p_{2} + \\sqrt{T^{2} v_{1}^{2} + T^{2} v_{2}^{2} + 9 \\, p_{1}^{2} - 18 \\, p_{1} p_{2} + 9 \\, p_{2}^{2} + 6 \\, {\\left(T p_{1} - T p_{2}\\right)} v_{1} + {\\left(T^{2} v_{1} + 6 \\, T p_{1} - 6 \\, T p_{2}\\right)} v_{2}} T}{3 \\, {\\left(T v_{1} + T v_{2} + 2 \\, p_{1} - 2 \\, p_{2}\\right)}}\\)</html>"
      ],
      "text/latex": [
       "$\\displaystyle t = \\frac{2 \\, T^{2} v_{1} + T^{2} v_{2} + 3 \\, T p_{1} - 3 \\, T p_{2} + \\sqrt{T^{2} v_{1}^{2} + T^{2} v_{2}^{2} + 9 \\, p_{1}^{2} - 18 \\, p_{1} p_{2} + 9 \\, p_{2}^{2} + 6 \\, {\\left(T p_{1} - T p_{2}\\right)} v_{1} + {\\left(T^{2} v_{1} + 6 \\, T p_{1} - 6 \\, T p_{2}\\right)} v_{2}} T}{3 \\, {\\left(T v_{1} + T v_{2} + 2 \\, p_{1} - 2 \\, p_{2}\\right)}}$"
      ],
      "text/plain": [
       "t == 1/3*(2*T^2*v1 + T^2*v2 + 3*T*p1 - 3*T*p2 + sqrt(T^2*v1^2 + T^2*v2^2 + 9*p1^2 - 18*p1*p2 + 9*p2^2 + 6*(T*p1 - T*p2)*v1 + (T^2*v1 + 6*T*p1 - 6*T*p2)*v2)*T)/(T*v1 + T*v2 + 2*p1 - 2*p2)"
      ]
     },
     "metadata": {},
     "output_type": "display_data"
    },
    {
     "name": "stdout",
     "output_type": "stream",
     "text": [
      "####################################################################################################\n",
      "time when a=0\n"
     ]
    },
    {
     "data": {
      "text/html": [
       "<html>\\(\\displaystyle t = \\frac{2 \\, T^{2} v_{1} + T^{2} v_{2} + 3 \\, T p_{1} - 3 \\, T p_{2}}{3 \\, {\\left(T v_{1} + T v_{2} + 2 \\, p_{1} - 2 \\, p_{2}\\right)}}\\)</html>"
      ],
      "text/latex": [
       "$\\displaystyle t = \\frac{2 \\, T^{2} v_{1} + T^{2} v_{2} + 3 \\, T p_{1} - 3 \\, T p_{2}}{3 \\, {\\left(T v_{1} + T v_{2} + 2 \\, p_{1} - 2 \\, p_{2}\\right)}}$"
      ],
      "text/plain": [
       "t == 1/3*(2*T^2*v1 + T^2*v2 + 3*T*p1 - 3*T*p2)/(T*v1 + T*v2 + 2*p1 - 2*p2)"
      ]
     },
     "metadata": {},
     "output_type": "display_data"
    }
   ],
   "source": [
    "t_for_zero_v = solve(f_vel == 0,t)\n",
    "t_for_zero_a = solve(f_acc == 0,t)\n",
    "\n",
    "print(\"Position = f( t )\")\n",
    "show(f)\n",
    "\n",
    "print(\"Velocity = f( t )\")\n",
    "show(f_vel)\n",
    "\n",
    "print(\"Acceleration = f( t )\")\n",
    "show(f_acc)\n",
    "\n",
    "\n",
    "print(100*'#')\n",
    "\n",
    "print('first time where v=0')\n",
    "show( t_for_zero_v[0] )\n",
    "print('second time where v=0')\n",
    "show( t_for_zero_v[1] )\n",
    "print(100*'#')\n",
    "print('time when a=0')\n",
    "show( t_for_zero_a[0] )\n"
   ]
  },
  {
   "cell_type": "code",
   "execution_count": 6,
   "metadata": {},
   "outputs": [
    {
     "data": {
      "text/html": [
       "<html>\\(\\displaystyle \\frac{4 \\, {\\left(T^{2} v_{2}^{2} + T^{2} v_{a}^{2} + 3 \\, p_{1}^{2} - 6 \\, p_{1} p_{2} + 3 \\, p_{2}^{2} + {\\left(T^{2} v_{a} + 3 \\, T p_{1} - 3 \\, T p_{2}\\right)} v_{2} + 3 \\, {\\left(T p_{1} - T p_{2}\\right)} v_{a}\\right)}}{T^{3}}\\)</html>"
      ],
      "text/latex": [
       "$\\displaystyle \\frac{4 \\, {\\left(T^{2} v_{2}^{2} + T^{2} v_{a}^{2} + 3 \\, p_{1}^{2} - 6 \\, p_{1} p_{2} + 3 \\, p_{2}^{2} + {\\left(T^{2} v_{a} + 3 \\, T p_{1} - 3 \\, T p_{2}\\right)} v_{2} + 3 \\, {\\left(T p_{1} - T p_{2}\\right)} v_{a}\\right)}}{T^{3}}$"
      ],
      "text/plain": [
       "4*(T^2*v2^2 + T^2*v_a^2 + 3*p1^2 - 6*p1*p2 + 3*p2^2 + (T^2*v_a + 3*T*p1 - 3*T*p2)*v2 + 3*(T*p1 - T*p2)*v_a)/T^3"
      ]
     },
     "metadata": {},
     "output_type": "display_data"
    },
    {
     "data": {
      "text/html": [
       "<html>\\(\\displaystyle \\left[v_{1} = -\\frac{2 \\, T v_{2} + 3 \\, p_{1} - 3 \\, p_{2}}{T}\\right]\\)</html>"
      ],
      "text/latex": [
       "$\\displaystyle \\left[v_{1} = -\\frac{2 \\, T v_{2} + 3 \\, p_{1} - 3 \\, p_{2}}{T}\\right]$"
      ],
      "text/plain": [
       "[v1 == -(2*T*v2 + 3*p1 - 3*p2)/T]"
      ]
     },
     "metadata": {},
     "output_type": "display_data"
    },
    {
     "data": {
      "text/html": [
       "<html>\\(\\displaystyle \\left[v_{2} = -\\frac{T v_{1} + 3 \\, p_{1} - 3 \\, p_{2}}{2 \\, T}\\right]\\)</html>"
      ],
      "text/latex": [
       "$\\displaystyle \\left[v_{2} = -\\frac{T v_{1} + 3 \\, p_{1} - 3 \\, p_{2}}{2 \\, T}\\right]$"
      ],
      "text/plain": [
       "[v2 == -1/2*(T*v1 + 3*p1 - 3*p2)/T]"
      ]
     },
     "metadata": {},
     "output_type": "display_data"
    }
   ],
   "source": [
    "var('v_a')\n",
    "show( integrate(f_acc*f_acc, (t,0,T) ).substitute(v1=v_a) )\n",
    "\n",
    "show( solve( derivative( integrate(f_acc*f_acc, (t,0,T) ) , v2 ) == 0 , v1 ) )\n",
    "show( solve( derivative( integrate(f_acc*f_acc, (t,0,T) ) , v2 ) == 0 , v2 ) )\n"
   ]
  },
  {
   "cell_type": "code",
   "execution_count": 7,
   "metadata": {
    "scrolled": false
   },
   "outputs": [
    {
     "name": "stdout",
     "output_type": "stream",
     "text": [
      "pos( t ) =\n"
     ]
    },
    {
     "data": {
      "text/html": [
       "<html>\\(\\displaystyle -t^{2} {\\left(\\frac{v_{1} + v_{2} + \\frac{2 \\, {\\left(p_{1} - p_{2}\\right)}}{T}}{T} + \\frac{v_{1} + \\frac{p_{1} - p_{2}}{T}}{T}\\right)} + \\frac{t^{3} {\\left(v_{1} + v_{2} + \\frac{2 \\, {\\left(p_{1} - p_{2}\\right)}}{T}\\right)}}{T^{2}} + t v_{1} + p_{1}\\)</html>"
      ],
      "text/latex": [
       "$\\displaystyle -t^{2} {\\left(\\frac{v_{1} + v_{2} + \\frac{2 \\, {\\left(p_{1} - p_{2}\\right)}}{T}}{T} + \\frac{v_{1} + \\frac{p_{1} - p_{2}}{T}}{T}\\right)} + \\frac{t^{3} {\\left(v_{1} + v_{2} + \\frac{2 \\, {\\left(p_{1} - p_{2}\\right)}}{T}\\right)}}{T^{2}} + t v_{1} + p_{1}$"
      ],
      "text/plain": [
       "-t^2*((v1 + v2 + 2*(p1 - p2)/T)/T + (v1 + (p1 - p2)/T)/T) + t^3*(v1 + v2 + 2*(p1 - p2)/T)/T^2 + t*v1 + p1"
      ]
     },
     "metadata": {},
     "output_type": "display_data"
    },
    {
     "name": "stdout",
     "output_type": "stream",
     "text": [
      "####################################################################################################\n",
      "extrem_pos_A\n"
     ]
    },
    {
     "data": {
      "text/html": [
       "<html>\\(\\displaystyle p_{1} + \\frac{{\\left(2 \\, T^{2} v_{1} + T^{2} v_{2} + 3 \\, T p_{1} - 3 \\, T p_{2} - \\sqrt{T^{2} v_{1}^{2} + T^{2} v_{2}^{2} + 9 \\, p_{1}^{2} - 18 \\, p_{1} p_{2} + 9 \\, p_{2}^{2} + 6 \\, {\\left(T p_{1} - T p_{2}\\right)} v_{1} + {\\left(T^{2} v_{1} + 6 \\, T p_{1} - 6 \\, T p_{2}\\right)} v_{2}} T\\right)} v_{1}}{3 \\, {\\left(T v_{1} + T v_{2} + 2 \\, p_{1} - 2 \\, p_{2}\\right)}} - \\frac{{\\left(2 \\, T^{2} v_{1} + T^{2} v_{2} + 3 \\, T p_{1} - 3 \\, T p_{2} - \\sqrt{T^{2} v_{1}^{2} + T^{2} v_{2}^{2} + 9 \\, p_{1}^{2} - 18 \\, p_{1} p_{2} + 9 \\, p_{2}^{2} + 6 \\, {\\left(T p_{1} - T p_{2}\\right)} v_{1} + {\\left(T^{2} v_{1} + 6 \\, T p_{1} - 6 \\, T p_{2}\\right)} v_{2}} T\\right)}^{2} {\\left(\\frac{v_{1} + v_{2} + \\frac{2 \\, {\\left(p_{1} - p_{2}\\right)}}{T}}{T} + \\frac{v_{1} + \\frac{p_{1} - p_{2}}{T}}{T}\\right)}}{9 \\, {\\left(T v_{1} + T v_{2} + 2 \\, p_{1} - 2 \\, p_{2}\\right)}^{2}} + \\frac{{\\left(2 \\, T^{2} v_{1} + T^{2} v_{2} + 3 \\, T p_{1} - 3 \\, T p_{2} - \\sqrt{T^{2} v_{1}^{2} + T^{2} v_{2}^{2} + 9 \\, p_{1}^{2} - 18 \\, p_{1} p_{2} + 9 \\, p_{2}^{2} + 6 \\, {\\left(T p_{1} - T p_{2}\\right)} v_{1} + {\\left(T^{2} v_{1} + 6 \\, T p_{1} - 6 \\, T p_{2}\\right)} v_{2}} T\\right)}^{3} {\\left(v_{1} + v_{2} + \\frac{2 \\, {\\left(p_{1} - p_{2}\\right)}}{T}\\right)}}{27 \\, {\\left(T v_{1} + T v_{2} + 2 \\, p_{1} - 2 \\, p_{2}\\right)}^{3} T^{2}}\\)</html>"
      ],
      "text/latex": [
       "$\\displaystyle p_{1} + \\frac{{\\left(2 \\, T^{2} v_{1} + T^{2} v_{2} + 3 \\, T p_{1} - 3 \\, T p_{2} - \\sqrt{T^{2} v_{1}^{2} + T^{2} v_{2}^{2} + 9 \\, p_{1}^{2} - 18 \\, p_{1} p_{2} + 9 \\, p_{2}^{2} + 6 \\, {\\left(T p_{1} - T p_{2}\\right)} v_{1} + {\\left(T^{2} v_{1} + 6 \\, T p_{1} - 6 \\, T p_{2}\\right)} v_{2}} T\\right)} v_{1}}{3 \\, {\\left(T v_{1} + T v_{2} + 2 \\, p_{1} - 2 \\, p_{2}\\right)}} - \\frac{{\\left(2 \\, T^{2} v_{1} + T^{2} v_{2} + 3 \\, T p_{1} - 3 \\, T p_{2} - \\sqrt{T^{2} v_{1}^{2} + T^{2} v_{2}^{2} + 9 \\, p_{1}^{2} - 18 \\, p_{1} p_{2} + 9 \\, p_{2}^{2} + 6 \\, {\\left(T p_{1} - T p_{2}\\right)} v_{1} + {\\left(T^{2} v_{1} + 6 \\, T p_{1} - 6 \\, T p_{2}\\right)} v_{2}} T\\right)}^{2} {\\left(\\frac{v_{1} + v_{2} + \\frac{2 \\, {\\left(p_{1} - p_{2}\\right)}}{T}}{T} + \\frac{v_{1} + \\frac{p_{1} - p_{2}}{T}}{T}\\right)}}{9 \\, {\\left(T v_{1} + T v_{2} + 2 \\, p_{1} - 2 \\, p_{2}\\right)}^{2}} + \\frac{{\\left(2 \\, T^{2} v_{1} + T^{2} v_{2} + 3 \\, T p_{1} - 3 \\, T p_{2} - \\sqrt{T^{2} v_{1}^{2} + T^{2} v_{2}^{2} + 9 \\, p_{1}^{2} - 18 \\, p_{1} p_{2} + 9 \\, p_{2}^{2} + 6 \\, {\\left(T p_{1} - T p_{2}\\right)} v_{1} + {\\left(T^{2} v_{1} + 6 \\, T p_{1} - 6 \\, T p_{2}\\right)} v_{2}} T\\right)}^{3} {\\left(v_{1} + v_{2} + \\frac{2 \\, {\\left(p_{1} - p_{2}\\right)}}{T}\\right)}}{27 \\, {\\left(T v_{1} + T v_{2} + 2 \\, p_{1} - 2 \\, p_{2}\\right)}^{3} T^{2}}$"
      ],
      "text/plain": [
       "p1 + 1/3*(2*T^2*v1 + T^2*v2 + 3*T*p1 - 3*T*p2 - sqrt(T^2*v1^2 + T^2*v2^2 + 9*p1^2 - 18*p1*p2 + 9*p2^2 + 6*(T*p1 - T*p2)*v1 + (T^2*v1 + 6*T*p1 - 6*T*p2)*v2)*T)*v1/(T*v1 + T*v2 + 2*p1 - 2*p2) - 1/9*(2*T^2*v1 + T^2*v2 + 3*T*p1 - 3*T*p2 - sqrt(T^2*v1^2 + T^2*v2^2 + 9*p1^2 - 18*p1*p2 + 9*p2^2 + 6*(T*p1 - T*p2)*v1 + (T^2*v1 + 6*T*p1 - 6*T*p2)*v2)*T)^2*((v1 + v2 + 2*(p1 - p2)/T)/T + (v1 + (p1 - p2)/T)/T)/(T*v1 + T*v2 + 2*p1 - 2*p2)^2 + 1/27*(2*T^2*v1 + T^2*v2 + 3*T*p1 - 3*T*p2 - sqrt(T^2*v1^2 + T^2*v2^2 + 9*p1^2 - 18*p1*p2 + 9*p2^2 + 6*(T*p1 - T*p2)*v1 + (T^2*v1 + 6*T*p1 - 6*T*p2)*v2)*T)^3*(v1 + v2 + 2*(p1 - p2)/T)/((T*v1 + T*v2 + 2*p1 - 2*p2)^3*T^2)"
      ]
     },
     "metadata": {},
     "output_type": "display_data"
    },
    {
     "name": "stdout",
     "output_type": "stream",
     "text": [
      "extrem_pos_B\n"
     ]
    },
    {
     "data": {
      "text/html": [
       "<html>\\(\\displaystyle p_{1} + \\frac{{\\left(2 \\, T^{2} v_{1} + T^{2} v_{2} + 3 \\, T p_{1} - 3 \\, T p_{2} + \\sqrt{T^{2} v_{1}^{2} + T^{2} v_{2}^{2} + 9 \\, p_{1}^{2} - 18 \\, p_{1} p_{2} + 9 \\, p_{2}^{2} + 6 \\, {\\left(T p_{1} - T p_{2}\\right)} v_{1} + {\\left(T^{2} v_{1} + 6 \\, T p_{1} - 6 \\, T p_{2}\\right)} v_{2}} T\\right)} v_{1}}{3 \\, {\\left(T v_{1} + T v_{2} + 2 \\, p_{1} - 2 \\, p_{2}\\right)}} - \\frac{{\\left(2 \\, T^{2} v_{1} + T^{2} v_{2} + 3 \\, T p_{1} - 3 \\, T p_{2} + \\sqrt{T^{2} v_{1}^{2} + T^{2} v_{2}^{2} + 9 \\, p_{1}^{2} - 18 \\, p_{1} p_{2} + 9 \\, p_{2}^{2} + 6 \\, {\\left(T p_{1} - T p_{2}\\right)} v_{1} + {\\left(T^{2} v_{1} + 6 \\, T p_{1} - 6 \\, T p_{2}\\right)} v_{2}} T\\right)}^{2} {\\left(\\frac{v_{1} + v_{2} + \\frac{2 \\, {\\left(p_{1} - p_{2}\\right)}}{T}}{T} + \\frac{v_{1} + \\frac{p_{1} - p_{2}}{T}}{T}\\right)}}{9 \\, {\\left(T v_{1} + T v_{2} + 2 \\, p_{1} - 2 \\, p_{2}\\right)}^{2}} + \\frac{{\\left(2 \\, T^{2} v_{1} + T^{2} v_{2} + 3 \\, T p_{1} - 3 \\, T p_{2} + \\sqrt{T^{2} v_{1}^{2} + T^{2} v_{2}^{2} + 9 \\, p_{1}^{2} - 18 \\, p_{1} p_{2} + 9 \\, p_{2}^{2} + 6 \\, {\\left(T p_{1} - T p_{2}\\right)} v_{1} + {\\left(T^{2} v_{1} + 6 \\, T p_{1} - 6 \\, T p_{2}\\right)} v_{2}} T\\right)}^{3} {\\left(v_{1} + v_{2} + \\frac{2 \\, {\\left(p_{1} - p_{2}\\right)}}{T}\\right)}}{27 \\, {\\left(T v_{1} + T v_{2} + 2 \\, p_{1} - 2 \\, p_{2}\\right)}^{3} T^{2}}\\)</html>"
      ],
      "text/latex": [
       "$\\displaystyle p_{1} + \\frac{{\\left(2 \\, T^{2} v_{1} + T^{2} v_{2} + 3 \\, T p_{1} - 3 \\, T p_{2} + \\sqrt{T^{2} v_{1}^{2} + T^{2} v_{2}^{2} + 9 \\, p_{1}^{2} - 18 \\, p_{1} p_{2} + 9 \\, p_{2}^{2} + 6 \\, {\\left(T p_{1} - T p_{2}\\right)} v_{1} + {\\left(T^{2} v_{1} + 6 \\, T p_{1} - 6 \\, T p_{2}\\right)} v_{2}} T\\right)} v_{1}}{3 \\, {\\left(T v_{1} + T v_{2} + 2 \\, p_{1} - 2 \\, p_{2}\\right)}} - \\frac{{\\left(2 \\, T^{2} v_{1} + T^{2} v_{2} + 3 \\, T p_{1} - 3 \\, T p_{2} + \\sqrt{T^{2} v_{1}^{2} + T^{2} v_{2}^{2} + 9 \\, p_{1}^{2} - 18 \\, p_{1} p_{2} + 9 \\, p_{2}^{2} + 6 \\, {\\left(T p_{1} - T p_{2}\\right)} v_{1} + {\\left(T^{2} v_{1} + 6 \\, T p_{1} - 6 \\, T p_{2}\\right)} v_{2}} T\\right)}^{2} {\\left(\\frac{v_{1} + v_{2} + \\frac{2 \\, {\\left(p_{1} - p_{2}\\right)}}{T}}{T} + \\frac{v_{1} + \\frac{p_{1} - p_{2}}{T}}{T}\\right)}}{9 \\, {\\left(T v_{1} + T v_{2} + 2 \\, p_{1} - 2 \\, p_{2}\\right)}^{2}} + \\frac{{\\left(2 \\, T^{2} v_{1} + T^{2} v_{2} + 3 \\, T p_{1} - 3 \\, T p_{2} + \\sqrt{T^{2} v_{1}^{2} + T^{2} v_{2}^{2} + 9 \\, p_{1}^{2} - 18 \\, p_{1} p_{2} + 9 \\, p_{2}^{2} + 6 \\, {\\left(T p_{1} - T p_{2}\\right)} v_{1} + {\\left(T^{2} v_{1} + 6 \\, T p_{1} - 6 \\, T p_{2}\\right)} v_{2}} T\\right)}^{3} {\\left(v_{1} + v_{2} + \\frac{2 \\, {\\left(p_{1} - p_{2}\\right)}}{T}\\right)}}{27 \\, {\\left(T v_{1} + T v_{2} + 2 \\, p_{1} - 2 \\, p_{2}\\right)}^{3} T^{2}}$"
      ],
      "text/plain": [
       "p1 + 1/3*(2*T^2*v1 + T^2*v2 + 3*T*p1 - 3*T*p2 + sqrt(T^2*v1^2 + T^2*v2^2 + 9*p1^2 - 18*p1*p2 + 9*p2^2 + 6*(T*p1 - T*p2)*v1 + (T^2*v1 + 6*T*p1 - 6*T*p2)*v2)*T)*v1/(T*v1 + T*v2 + 2*p1 - 2*p2) - 1/9*(2*T^2*v1 + T^2*v2 + 3*T*p1 - 3*T*p2 + sqrt(T^2*v1^2 + T^2*v2^2 + 9*p1^2 - 18*p1*p2 + 9*p2^2 + 6*(T*p1 - T*p2)*v1 + (T^2*v1 + 6*T*p1 - 6*T*p2)*v2)*T)^2*((v1 + v2 + 2*(p1 - p2)/T)/T + (v1 + (p1 - p2)/T)/T)/(T*v1 + T*v2 + 2*p1 - 2*p2)^2 + 1/27*(2*T^2*v1 + T^2*v2 + 3*T*p1 - 3*T*p2 + sqrt(T^2*v1^2 + T^2*v2^2 + 9*p1^2 - 18*p1*p2 + 9*p2^2 + 6*(T*p1 - T*p2)*v1 + (T^2*v1 + 6*T*p1 - 6*T*p2)*v2)*T)^3*(v1 + v2 + 2*(p1 - p2)/T)/((T*v1 + T*v2 + 2*p1 - 2*p2)^3*T^2)"
      ]
     },
     "metadata": {},
     "output_type": "display_data"
    },
    {
     "name": "stdout",
     "output_type": "stream",
     "text": [
      "####################################################################################################\n",
      "extrem_vel\n"
     ]
    },
    {
     "data": {
      "text/html": [
       "<html>\\(\\displaystyle v_{1} - \\frac{2 \\, {\\left(2 \\, T^{2} v_{1} + T^{2} v_{2} + 3 \\, T p_{1} - 3 \\, T p_{2}\\right)} {\\left(\\frac{v_{1} + v_{2} + \\frac{2 \\, {\\left(p_{1} - p_{2}\\right)}}{T}}{T} + \\frac{v_{1} + \\frac{p_{1} - p_{2}}{T}}{T}\\right)}}{3 \\, {\\left(T v_{1} + T v_{2} + 2 \\, p_{1} - 2 \\, p_{2}\\right)}} + \\frac{{\\left(2 \\, T^{2} v_{1} + T^{2} v_{2} + 3 \\, T p_{1} - 3 \\, T p_{2}\\right)}^{2} {\\left(v_{1} + v_{2} + \\frac{2 \\, {\\left(p_{1} - p_{2}\\right)}}{T}\\right)}}{3 \\, {\\left(T v_{1} + T v_{2} + 2 \\, p_{1} - 2 \\, p_{2}\\right)}^{2} T^{2}}\\)</html>"
      ],
      "text/latex": [
       "$\\displaystyle v_{1} - \\frac{2 \\, {\\left(2 \\, T^{2} v_{1} + T^{2} v_{2} + 3 \\, T p_{1} - 3 \\, T p_{2}\\right)} {\\left(\\frac{v_{1} + v_{2} + \\frac{2 \\, {\\left(p_{1} - p_{2}\\right)}}{T}}{T} + \\frac{v_{1} + \\frac{p_{1} - p_{2}}{T}}{T}\\right)}}{3 \\, {\\left(T v_{1} + T v_{2} + 2 \\, p_{1} - 2 \\, p_{2}\\right)}} + \\frac{{\\left(2 \\, T^{2} v_{1} + T^{2} v_{2} + 3 \\, T p_{1} - 3 \\, T p_{2}\\right)}^{2} {\\left(v_{1} + v_{2} + \\frac{2 \\, {\\left(p_{1} - p_{2}\\right)}}{T}\\right)}}{3 \\, {\\left(T v_{1} + T v_{2} + 2 \\, p_{1} - 2 \\, p_{2}\\right)}^{2} T^{2}}$"
      ],
      "text/plain": [
       "v1 - 2/3*(2*T^2*v1 + T^2*v2 + 3*T*p1 - 3*T*p2)*((v1 + v2 + 2*(p1 - p2)/T)/T + (v1 + (p1 - p2)/T)/T)/(T*v1 + T*v2 + 2*p1 - 2*p2) + 1/3*(2*T^2*v1 + T^2*v2 + 3*T*p1 - 3*T*p2)^2*(v1 + v2 + 2*(p1 - p2)/T)/((T*v1 + T*v2 + 2*p1 - 2*p2)^2*T^2)"
      ]
     },
     "metadata": {},
     "output_type": "display_data"
    },
    {
     "name": "stdout",
     "output_type": "stream",
     "text": [
      "####################################################################################################\n",
      "a_at_0\n"
     ]
    },
    {
     "data": {
      "text/html": [
       "<html>\\(\\displaystyle -\\frac{2 \\, {\\left(v_{1} + v_{2} + \\frac{2 \\, {\\left(p_{1} - p_{2}\\right)}}{T}\\right)}}{T} - \\frac{2 \\, {\\left(v_{1} + \\frac{p_{1} - p_{2}}{T}\\right)}}{T}\\)</html>"
      ],
      "text/latex": [
       "$\\displaystyle -\\frac{2 \\, {\\left(v_{1} + v_{2} + \\frac{2 \\, {\\left(p_{1} - p_{2}\\right)}}{T}\\right)}}{T} - \\frac{2 \\, {\\left(v_{1} + \\frac{p_{1} - p_{2}}{T}\\right)}}{T}$"
      ],
      "text/plain": [
       "-2*(v1 + v2 + 2*(p1 - p2)/T)/T - 2*(v1 + (p1 - p2)/T)/T"
      ]
     },
     "metadata": {},
     "output_type": "display_data"
    },
    {
     "name": "stdout",
     "output_type": "stream",
     "text": [
      "a_at_T\n"
     ]
    },
    {
     "data": {
      "text/html": [
       "<html>\\(\\displaystyle \\frac{4 \\, {\\left(v_{1} + v_{2} + \\frac{2 \\, {\\left(p_{1} - p_{2}\\right)}}{T}\\right)}}{T} - \\frac{2 \\, {\\left(v_{1} + \\frac{p_{1} - p_{2}}{T}\\right)}}{T}\\)</html>"
      ],
      "text/latex": [
       "$\\displaystyle \\frac{4 \\, {\\left(v_{1} + v_{2} + \\frac{2 \\, {\\left(p_{1} - p_{2}\\right)}}{T}\\right)}}{T} - \\frac{2 \\, {\\left(v_{1} + \\frac{p_{1} - p_{2}}{T}\\right)}}{T}$"
      ],
      "text/plain": [
       "4*(v1 + v2 + 2*(p1 - p2)/T)/T - 2*(v1 + (p1 - p2)/T)/T"
      ]
     },
     "metadata": {},
     "output_type": "display_data"
    },
    {
     "name": "stdout",
     "output_type": "stream",
     "text": [
      "####################################################################################################\n",
      "14.6750455373406\n"
     ]
    }
   ],
   "source": [
    "print('pos( t ) =')\n",
    "show(f(t))\n",
    "\n",
    "print(100*'#')\n",
    "\n",
    "print('extrem_pos_A')\n",
    "extrem_pos_A = f(t_for_zero_v[0].rhs())\n",
    "show(extrem_pos_A)\n",
    "\n",
    "print('extrem_pos_B')\n",
    "extrem_pos_B = f(t_for_zero_v[1].rhs())\n",
    "show(extrem_pos_B)\n",
    "\n",
    "print(100*'#')\n",
    "\n",
    "print('extrem_vel')\n",
    "extrem_vel = f_vel(t_for_zero_a[0].rhs())\n",
    "show(extrem_vel)\n",
    "\n",
    "print(100*'#')\n",
    "\n",
    "print('a_at_0')\n",
    "a_at_0 = f_acc(0)\n",
    "show(f_acc(0))\n",
    "\n",
    "print('a_at_T')\n",
    "a_at_T = f_acc(T)\n",
    "show(f_acc(T))\n",
    "\n",
    "print(100*'#')\n",
    "\n",
    "def get_max_vel(p1,p2,v1,v2,T):\n",
    "\n",
    "    if p2 == p1 + T*(v2+v1)/2:\n",
    "        ext = max(v1,v2)\n",
    "    else:\n",
    "        ext = extrem_vel(p1=p1,p2=p2,v1=v1,v2=v2,T=T)\n",
    "    \n",
    "    return max(v1,v2,ext)\n",
    "\n",
    "def get_min_vel(p1,p2,v1,v2,T):\n",
    "    \n",
    "    if p2 == p1 + T*(v2+v1)/2:\n",
    "        ext = min(v1,v2)\n",
    "    else:\n",
    "        ext = extrem_vel(p1=p1,p2=p2,v1=v1,v2=v2,T=T)\n",
    "    \n",
    "    return min(v1,v2,ext)\n",
    "\n",
    "p_one = -1\n",
    "p_two =  100\n",
    "v_one =  1\n",
    "v_two =  0.9\n",
    "\n",
    "T_ = 10\n",
    "\n",
    "res1 = get_max_vel(p1=p_one,p2=p_two,v1=v_one,v2=v_two,T=T_)\n",
    "res2 = get_min_vel(p1=p_one,p2=p_two,v1=v_one,v2=v_two,T=T_)\n",
    "\n",
    "print(res1)"
   ]
  },
  {
   "cell_type": "code",
   "execution_count": 8,
   "metadata": {},
   "outputs": [
    {
     "data": {
      "image/png": "[encoded data removed]",
      "text/plain": [
       "Graphics Array of size 3 x 1"
      ]
     },
     "execution_count": 8,
     "metadata": {},
     "output_type": "execute_result"
    }
   ],
   "source": [
    "def plot_triple_pos(p1,p2,p3,p4,v1,v2,v3,v4,T1,T2,T3):\n",
    "    #print(100*'#')\n",
    "    \n",
    "    graph_A =    plot( f(t)(p1=p1,p2=p2,v1=v1,v2=v2,T=T1),(t,0,T1) ,axes_labels=['$time$', '$pos$']) \n",
    "    \n",
    "    graph_B =    plot( f(t-T1)(p1=p2,p2=p3,v1=v2,v2=v3,T=T2),(t,T1,T1+T2) ,axes_labels=['$time$', '$pos$']) \n",
    "    \n",
    "    graph_C =    plot( f(t-(T1 + T2) )(p1=p3,p2=p4,v1=v3,v2=v4,T=T3),(t,T1+T2,T1+T2+T3) ,axes_labels=['$time$', '$pos$']) \n",
    "\n",
    "    p_1 =  plot( p1 ,(t,0,T1),color='purple')\n",
    "    p_2 =  plot( p2 ,(t,0,T1),color='purple')\n",
    "    p_3 =  plot( p3 ,(t,T1,T1+T2),color='purple')\n",
    "    p_4 =  plot( p4 ,(t,T1+T2,T1+T2+T3),color='purple')\n",
    "    \n",
    "    l_1 = line([(0,0),     (0,p1)],color='green')\n",
    "    l_2 = line([(T1,0),    (T1,p2)],color='green')\n",
    "    l_3 = line([(T1+T2,0), (T1+T2,p3)],color='green')\n",
    "    l_4 = line([(T1+T2+T3,0), (T1+T2+T3,p4)],color='green')\n",
    "    \n",
    "    return graph_A + graph_B + graph_C + p_1 + p_2 + p_3 + p_4 + l_1 + l_2 +l_3 + l_4\n",
    "    #show( graph_A + graph_B + graph_C + p_1 + p_2 + p_3 + p_4 + l_1 + l_2 +l_3 + l_4)\n",
    "    print(100*'#')\n",
    "\n",
    "def plot_triple_vel(p1,p2,p3,p4,v1,v2,v3,v4,T1,T2,T3,v_max=None):\n",
    "    #print(100*'#')\n",
    "    \n",
    "    graph_A = plot( f_vel(t)(p1=p1,p2=p2,v1=v1,v2=v2,T=T1),(t,0,T1)  ,axes_labels=['$time$', '$vel$']) \n",
    "    graph_B = plot( f_vel(t-T1)(p1=p2,p2=p3,v1=v2,v2=v3,T=T2),(t,T1,T1+T2) ,axes_labels=['$time$', '$vel$'])\n",
    "    graph_C = plot( f_vel(t-(T1 + T2) )(p1=p3,p2=p4,v1=v3,v2=v4,T=T3),(t,T1+T2,T1+T2+T3) ,axes_labels=['$time$', '$vel$']) \n",
    "    \n",
    "    v_1 =  plot( v1 ,(t,0,T1),color='purple')\n",
    "    v_2 =  plot( v2 ,(t,0,T1),color='purple')\n",
    "    v_3 =  plot( v3 ,(t,T1,T1+T2),color='purple')\n",
    "    v_4 =  plot( v4 ,(t,T1+T2,T1+T2+T3),color='purple')\n",
    "    \n",
    "    l_1 = line([(0,0),     (0,v1)],color='green')\n",
    "    l_2 = line([(T1,0),    (T1,v2)],color='green')\n",
    "    l_3 = line([(T1+T2,0), (T1+T2,v3)],color='green')\n",
    "    l_4 = line([(T1+T2+T3,0), (T1+T2+T3,v4)],color='green')\n",
    "    \n",
    "    v_upper_A = N(get_max_vel(p1=p1,p2=p2,v1=v1,v2=v2,T=T1) )\n",
    "    v_lower_A = N(get_min_vel(p1=p1,p2=p2,v1=v1,v2=v2,T=T1) )\n",
    "\n",
    "    v_upper_B = N(get_max_vel(p1=p2,p2=p3,v1=v2,v2=v3,T=T2) )\n",
    "    v_lower_B = N(get_min_vel(p1=p2,p2=p3,v1=v2,v2=v3,T=T2) )\n",
    "\n",
    "    v_upper_C = N(get_max_vel(p1=p3,p2=p4,v1=v3,v2=v4,T=T3) )\n",
    "    v_lower_C = N(get_min_vel(p1=p3,p2=p4,v1=v3,v2=v4,T=T3) )\n",
    "    \n",
    "    \n",
    "    if v_max == None:\n",
    "        return graph_A + graph_B + graph_C + v_1 + v_2 + v_3 + v_4 + l_1 + l_2 +l_3 + l_4\n",
    "        #show(  graph_A + graph_B + graph_C + v_1 + v_2 + v_3 + v_4 + l_1 + l_2 +l_3 + l_4)\n",
    "    else:\n",
    "        v_m_A = plot(  v_max ,(t,0,T1+T2+T3),color='red')\n",
    "        v_m_B = plot( -v_max ,(t,0,T1+T2+T3),color='red')\n",
    "        return graph_A + graph_B + graph_C + v_1 + v_2 + v_3 + v_4 + v_m_A + v_m_B + l_1 + l_2 +l_3 + l_4\n",
    "        #show( graph_A + graph_B + graph_C + v_1 + v_2 + v_3 + v_4 + v_m_A + v_m_B + l_1 + l_2 +l_3 + l_4)\n",
    "    \n",
    "    print(f'upper_velocity_A = {v_upper_A}')\n",
    "    print(f'lower_velocity_A = {v_lower_A}')\n",
    "\n",
    "    print(f'upper_velocity_B = {v_upper_B}')\n",
    "    print(f'lower_velocity_B = {v_lower_B}')\n",
    "    \n",
    "    print(f'upper_velocity_C = {v_upper_C}')\n",
    "    print(f'lower_velocity_C = {v_lower_C}')    \n",
    "    \n",
    "    print(100*'#')\n",
    "    \n",
    "    \n",
    "\n",
    "def plot_triple_acc(p1,p2,p3,p4,v1,v2,v3,v4,T1,T2,T3,a_max=None):\n",
    "    #print(100*'#')\n",
    "    \n",
    "    graph_A = plot( f_acc(t)(p1=p1,p2=p2,v1=v1,v2=v2,T=T1),(t,0,T1)  ,axes_labels=['$time$', '$acc$']) \n",
    "    graph_B = plot( f_acc(t-T1)(p1=p2,p2=p3,v1=v2,v2=v3,T=T2),(t,T1,T1+T2) ,axes_labels=['$time$', '$acc$'])\n",
    "    graph_C = plot( f_acc(t-(T1 + T2) )(p1=p3,p2=p4,v1=v3,v2=v4,T=T3),(t,T1+T2,T1+T2+T3) ,axes_labels=['$time$', '$acc$'])\n",
    "\n",
    "    a_upper_A = N( f_acc(p1=p1,p2=p2,v1=v1,v2=v2,T=T1)(t=0) )\n",
    "    a_lower_A = N( f_acc(p1=p1,p2=p2,v1=v1,v2=v2,T=T1)(t=T1) )\n",
    "    \n",
    "    a_upper_B = N( f_acc(p1=p2,p2=p3,v1=v2,v2=v3,T=T2)(t=0) )\n",
    "    a_lower_B = N( f_acc(p1=p2,p2=p3,v1=v2,v2=v3,T=T2)(t=T2) )\n",
    "    \n",
    "    a_upper_C = N( f_acc(p1=p3,p2=p4,v1=v3,v2=v4,T=T3)(t=0) )\n",
    "    a_lower_C = N( f_acc(p1=p3,p2=p4,v1=v3,v2=v4,T=T3)(t=T3) )    \n",
    "    \n",
    "    l_1 = line([(0,0),     (0,a_upper_A)],color='green')\n",
    "    l_2 = line([(T1,min(a_lower_A,a_upper_B )),    (T1,max(a_lower_A,a_upper_B ))],color='green')\n",
    "    l_3 = line([(T1+T2,min(a_lower_B,a_upper_C )),    (T1+T2,max(a_lower_B,a_upper_C ))],color='green')    \n",
    "    \n",
    "    if a_max == None:\n",
    "        return graph_A + graph_B + graph_C + l_1 + l_2 +l_3\n",
    "        #show( graph_A + graph_B + graph_C + l_1 + l_2 +l_3)\n",
    "    else:\n",
    "        a_m_A = plot(  a_max ,(t,0,T1+T2+T3),color='red')\n",
    "        a_m_B = plot( -a_max ,(t,0,T1+T2+T3),color='red')\n",
    "        return graph_A + graph_B + graph_C + a_m_A + a_m_B + l_1 + l_2 +l_3\n",
    "        #show( graph_A + graph_B + graph_C + a_m_A + a_m_B + l_1 + l_2 +l_3)\n",
    "    \n",
    "\n",
    "        \n",
    "    print(f'upper_acceleration_A = {a_upper_A}')\n",
    "    print(f'lower_acceleration_A = {a_lower_A}')\n",
    "\n",
    "    print(f'upper_acceleration_B = {a_upper_B}')\n",
    "    print(f'lower_acceleration_B = {a_lower_B}')\n",
    "\n",
    "    print(f'upper_acceleration_C = {a_upper_C}')\n",
    "    print(f'lower_acceleration_C = {a_lower_C}')\n",
    "    \n",
    "    \n",
    "    print(100*'#')\n",
    "\n",
    "def show_triple_plots(p1,p2,p3,p4,v1,v2,v3,v4,T1,T2,T3,v_max=None,a_max=None):\n",
    "     \n",
    "    return   graphics_array ( \n",
    "        [\n",
    "             plot_triple_pos(p1=p1,p2=p2,p3=p3,p4=p4,v1=v1,v2=v2,v3=v3,v4=v4,T1=T1,T2=T2,T3=T3)\n",
    "            ,plot_triple_vel(p1=p1,p2=p2,p3=p3,p4=p4,v1=v1,v2=v2,v3=v3,v4=v4,T1=T1,T2=T2,T3=T3,v_max=v_max)\n",
    "            ,plot_triple_acc(p1=p1,p2=p2,p3=p3,p4=p4,v1=v1,v2=v2,v3=v3,v4=v4,T1=T1,T2=T2,T3=T3,a_max=a_max) \n",
    "        ],3,1)\n",
    "    \n",
    "import numpy    \n",
    "\n",
    "p = [ show_triple_plots( p1=0\n",
    "                  ,p2=10\n",
    "                  ,p3=20\n",
    "                  ,p4=30\n",
    "                  ,v1=0\n",
    "                  ,v2=2\n",
    "                  ,v3=2\n",
    "                  ,v4=0\n",
    "                  ,T1=4\n",
    "                  ,T2=3\n",
    "                  ,T3=4\n",
    "                  ,v_max=8\n",
    "                  ,a_max=3) for x in numpy.linspace(0,4,5)  ]\n",
    "\n",
    "#sines = [plot(c*sin(x), (-2*pi,2*pi), color=Color(c,0,0), ymin=-1, ymax=1) for c in sxrange(0,1,.2)]\n",
    "#animate(p)\n",
    "p[2]\n"
   ]
  },
  {
   "cell_type": "code",
   "execution_count": 9,
   "metadata": {
    "scrolled": false
   },
   "outputs": [
    {
     "name": "stdout",
     "output_type": "stream",
     "text": [
      "smallest T for v1 = v2\n"
     ]
    },
    {
     "data": {
      "text/html": [
       "<html>\\(\\displaystyle -\\frac{3 \\, {\\left(p_{1} - p_{2}\\right)}}{2 \\, v_{\\mathit{max}}}\\)</html>"
      ],
      "text/latex": [
       "$\\displaystyle -\\frac{3 \\, {\\left(p_{1} - p_{2}\\right)}}{2 \\, v_{\\mathit{max}}}$"
      ],
      "text/plain": [
       "-3/2*(p1 - p2)/v_max"
      ]
     },
     "metadata": {},
     "output_type": "display_data"
    },
    {
     "name": "stdout",
     "output_type": "stream",
     "text": [
      "####################################################################################################\n",
      "smallest T for p1 != p2, with v_max\n"
     ]
    },
    {
     "data": {
      "text/html": [
       "<html>\\(\\displaystyle -\\frac{3 \\, {\\left({\\left(p_{1} - p_{2}\\right)} v_{1} + {\\left(p_{1} - p_{2}\\right)} v_{2} + {\\left(p_{1} - p_{2}\\right)} v_{\\mathit{max}} - \\sqrt{v_{1} v_{2} - {\\left(v_{1} + v_{2}\\right)} v_{\\mathit{max}} + v_{\\mathit{max}}^{2}} {\\left(p_{1} - p_{2}\\right)}\\right)}}{v_{1}^{2} + v_{1} v_{2} + v_{2}^{2} + 3 \\, {\\left(v_{1} + v_{2}\\right)} v_{\\mathit{max}}}\\)</html>"
      ],
      "text/latex": [
       "$\\displaystyle -\\frac{3 \\, {\\left({\\left(p_{1} - p_{2}\\right)} v_{1} + {\\left(p_{1} - p_{2}\\right)} v_{2} + {\\left(p_{1} - p_{2}\\right)} v_{\\mathit{max}} - \\sqrt{v_{1} v_{2} - {\\left(v_{1} + v_{2}\\right)} v_{\\mathit{max}} + v_{\\mathit{max}}^{2}} {\\left(p_{1} - p_{2}\\right)}\\right)}}{v_{1}^{2} + v_{1} v_{2} + v_{2}^{2} + 3 \\, {\\left(v_{1} + v_{2}\\right)} v_{\\mathit{max}}}$"
      ],
      "text/plain": [
       "-3*((p1 - p2)*v1 + (p1 - p2)*v2 + (p1 - p2)*v_max - sqrt(v1*v2 - (v1 + v2)*v_max + v_max^2)*(p1 - p2))/(v1^2 + v1*v2 + v2^2 + 3*(v1 + v2)*v_max)"
      ]
     },
     "metadata": {},
     "output_type": "display_data"
    },
    {
     "data": {
      "text/html": [
       "<html>\\(\\displaystyle -\\frac{3 \\, {\\left({\\left(p_{1} - p_{2}\\right)} v_{1} + {\\left(p_{1} - p_{2}\\right)} v_{2} + {\\left(p_{1} - p_{2}\\right)} v_{\\mathit{max}} + \\sqrt{v_{1} v_{2} - {\\left(v_{1} + v_{2}\\right)} v_{\\mathit{max}} + v_{\\mathit{max}}^{2}} {\\left(p_{1} - p_{2}\\right)}\\right)}}{v_{1}^{2} + v_{1} v_{2} + v_{2}^{2} + 3 \\, {\\left(v_{1} + v_{2}\\right)} v_{\\mathit{max}}}\\)</html>"
      ],
      "text/latex": [
       "$\\displaystyle -\\frac{3 \\, {\\left({\\left(p_{1} - p_{2}\\right)} v_{1} + {\\left(p_{1} - p_{2}\\right)} v_{2} + {\\left(p_{1} - p_{2}\\right)} v_{\\mathit{max}} + \\sqrt{v_{1} v_{2} - {\\left(v_{1} + v_{2}\\right)} v_{\\mathit{max}} + v_{\\mathit{max}}^{2}} {\\left(p_{1} - p_{2}\\right)}\\right)}}{v_{1}^{2} + v_{1} v_{2} + v_{2}^{2} + 3 \\, {\\left(v_{1} + v_{2}\\right)} v_{\\mathit{max}}}$"
      ],
      "text/plain": [
       "-3*((p1 - p2)*v1 + (p1 - p2)*v2 + (p1 - p2)*v_max + sqrt(v1*v2 - (v1 + v2)*v_max + v_max^2)*(p1 - p2))/(v1^2 + v1*v2 + v2^2 + 3*(v1 + v2)*v_max)"
      ]
     },
     "metadata": {},
     "output_type": "display_data"
    },
    {
     "name": "stdout",
     "output_type": "stream",
     "text": [
      "####################################################################################################\n",
      "T for p1 != p2, with a_max\n"
     ]
    },
    {
     "data": {
      "text/html": [
       "<html>\\(\\displaystyle -\\frac{2 \\, v_{1} + v_{2} + \\sqrt{-6 \\, a_{\\mathit{max}} p_{1} + 6 \\, a_{\\mathit{max}} p_{2} + 4 \\, v_{1}^{2} + 4 \\, v_{1} v_{2} + v_{2}^{2}}}{a_{\\mathit{max}}}\\)</html>"
      ],
      "text/latex": [
       "$\\displaystyle -\\frac{2 \\, v_{1} + v_{2} + \\sqrt{-6 \\, a_{\\mathit{max}} p_{1} + 6 \\, a_{\\mathit{max}} p_{2} + 4 \\, v_{1}^{2} + 4 \\, v_{1} v_{2} + v_{2}^{2}}}{a_{\\mathit{max}}}$"
      ],
      "text/plain": [
       "-(2*v1 + v2 + sqrt(-6*a_max*p1 + 6*a_max*p2 + 4*v1^2 + 4*v1*v2 + v2^2))/a_max"
      ]
     },
     "metadata": {},
     "output_type": "display_data"
    },
    {
     "data": {
      "text/html": [
       "<html>\\(\\displaystyle -\\frac{2 \\, v_{1} + v_{2} - \\sqrt{-6 \\, a_{\\mathit{max}} p_{1} + 6 \\, a_{\\mathit{max}} p_{2} + 4 \\, v_{1}^{2} + 4 \\, v_{1} v_{2} + v_{2}^{2}}}{a_{\\mathit{max}}}\\)</html>"
      ],
      "text/latex": [
       "$\\displaystyle -\\frac{2 \\, v_{1} + v_{2} - \\sqrt{-6 \\, a_{\\mathit{max}} p_{1} + 6 \\, a_{\\mathit{max}} p_{2} + 4 \\, v_{1}^{2} + 4 \\, v_{1} v_{2} + v_{2}^{2}}}{a_{\\mathit{max}}}$"
      ],
      "text/plain": [
       "-(2*v1 + v2 - sqrt(-6*a_max*p1 + 6*a_max*p2 + 4*v1^2 + 4*v1*v2 + v2^2))/a_max"
      ]
     },
     "metadata": {},
     "output_type": "display_data"
    },
    {
     "data": {
      "text/html": [
       "<html>\\(\\displaystyle \\frac{v_{1} + 2 \\, v_{2} - \\sqrt{6 \\, a_{\\mathit{max}} p_{1} - 6 \\, a_{\\mathit{max}} p_{2} + v_{1}^{2} + 4 \\, v_{1} v_{2} + 4 \\, v_{2}^{2}}}{a_{\\mathit{max}}}\\)</html>"
      ],
      "text/latex": [
       "$\\displaystyle \\frac{v_{1} + 2 \\, v_{2} - \\sqrt{6 \\, a_{\\mathit{max}} p_{1} - 6 \\, a_{\\mathit{max}} p_{2} + v_{1}^{2} + 4 \\, v_{1} v_{2} + 4 \\, v_{2}^{2}}}{a_{\\mathit{max}}}$"
      ],
      "text/plain": [
       "(v1 + 2*v2 - sqrt(6*a_max*p1 - 6*a_max*p2 + v1^2 + 4*v1*v2 + 4*v2^2))/a_max"
      ]
     },
     "metadata": {},
     "output_type": "display_data"
    },
    {
     "data": {
      "text/html": [
       "<html>\\(\\displaystyle \\frac{v_{1} + 2 \\, v_{2} + \\sqrt{6 \\, a_{\\mathit{max}} p_{1} - 6 \\, a_{\\mathit{max}} p_{2} + v_{1}^{2} + 4 \\, v_{1} v_{2} + 4 \\, v_{2}^{2}}}{a_{\\mathit{max}}}\\)</html>"
      ],
      "text/latex": [
       "$\\displaystyle \\frac{v_{1} + 2 \\, v_{2} + \\sqrt{6 \\, a_{\\mathit{max}} p_{1} - 6 \\, a_{\\mathit{max}} p_{2} + v_{1}^{2} + 4 \\, v_{1} v_{2} + 4 \\, v_{2}^{2}}}{a_{\\mathit{max}}}$"
      ],
      "text/plain": [
       "(v1 + 2*v2 + sqrt(6*a_max*p1 - 6*a_max*p2 + v1^2 + 4*v1*v2 + 4*v2^2))/a_max"
      ]
     },
     "metadata": {},
     "output_type": "display_data"
    },
    {
     "name": "stdout",
     "output_type": "stream",
     "text": [
      "####################################################################################################\n"
     ]
    }
   ],
   "source": [
    "var('v_max')\n",
    "var('a_max')\n",
    "\n",
    "\n",
    "quickest_T_v1 = solve( extrem_vel == v_max , T)[0].rhs()\n",
    "quickest_T_v0 = quickest_T_v1.limit(v1 = 0).limit(v2=0)\n",
    "\n",
    "quickest_T_v2 =  solve( extrem_vel == v_max , T)[1].rhs()\n",
    "\n",
    "quickest_T_a0_A = solve( a_at_0 == a_max , T)[0].rhs()\n",
    "quickest_T_a0_B = solve( a_at_0 == a_max , T)[1].rhs()\n",
    "\n",
    "quickest_T_aT_A = solve( a_at_T == a_max , T)[0].rhs()\n",
    "quickest_T_aT_B = solve( a_at_T == a_max , T)[1].rhs()\n",
    "\n",
    "print(\"smallest T for v1 = v2\")\n",
    "show( quickest_T_v0 )\n",
    "print(100*'#')\n",
    "\n",
    "print(\"smallest T for p1 != p2, with v_max\")\n",
    "show( quickest_T_v1 )\n",
    "show( quickest_T_v2 )\n",
    "print(100*'#')\n",
    "\n",
    "print(\"T for p1 != p2, with a_max\")\n",
    "show( quickest_T_a0_A )\n",
    "show( quickest_T_a0_B )\n",
    "show( quickest_T_aT_A )\n",
    "show( quickest_T_aT_B )\n",
    "\n",
    "print(100*'#')"
   ]
  },
  {
   "cell_type": "code",
   "execution_count": 10,
   "metadata": {
    "scrolled": false
   },
   "outputs": [
    {
     "name": "stdout",
     "output_type": "stream",
     "text": [
      "10.6770782520313\n"
     ]
    },
    {
     "data": {
      "image/png": "[encoded data removed]",
      "text/plain": [
       "Graphics Array of size 3 x 1"
      ]
     },
     "execution_count": 10,
     "metadata": {},
     "output_type": "execute_result"
    }
   ],
   "source": [
    "def smallest_T_v(p1,p2,v1,v2,v_max):\n",
    "\n",
    "    best_T_v1 = quickest_T_v1(p1=p1, p2=p2, v1=v1 , v2=v2 ,v_max=v_max)\n",
    "\n",
    "    if v1 == v_max or v2 == v_max:\n",
    "        return best_T_v1.real()\n",
    "    \n",
    "    a_at_zero = f_acc(p1=p1, p2=p2, v1=v1 , v2=v2 , T=best_T_v1, t=0        )\n",
    "    a_at_T    = f_acc(p1=p1, p2=p2, v1=v1 , v2=v2 , T=best_T_v1, t=best_T_v1)\n",
    "\n",
    "    if a_at_zero * a_at_T > 0 or not(best_T_v1 in RR):\n",
    "        best_T_v1 = None\n",
    "\n",
    "\n",
    "    best_T_v2 = quickest_T_v2(p1=p1, p2=p2, v1=v1 , v2=v2 ,v_max=v_max)\n",
    "\n",
    "    a_at_zero = f_acc(p1=p1, p2=p2, v1=v1 , v2=v2 , T=best_T_v2, t=0        )\n",
    "    a_at_T    = f_acc(p1=p1, p2=p2, v1=v1 , v2=v2 , T=best_T_v2, t=best_T_v2)\n",
    "\n",
    "    if a_at_zero * a_at_T > 0 or not(best_T_v2 in RR):\n",
    "        best_T_v2 = None\n",
    "\n",
    "    if best_T_v2 == None and best_T_v1 == None:\n",
    "        print('failure')\n",
    "        print(p1,p2,v1,v2,v_max)\n",
    "        \n",
    "    return max(best_T_v1,best_T_v2  )\n",
    "\n",
    "def smallest_T_a(p1,p2,v1,v2,a_max):\n",
    "    \n",
    "    sol =   [quickest_T_a0_A(p1=p1,p2=p2,v1=v1,v2=v2,a_max=a_max )\n",
    "                ,quickest_T_a0_B(p1=p1,p2=p2,v1=v1,v2=v2,a_max=a_max )\n",
    "                ,quickest_T_aT_A(p1=p1,p2=p2,v1=v1,v2=v2,a_max=a_max )\n",
    "                ,quickest_T_aT_B(p1=p1,p2=p2,v1=v1,v2=v2,a_max=a_max )\n",
    "                ,quickest_T_a0_A(p1=p1,p2=p2,v1=v1,v2=v2,a_max=-a_max )\n",
    "                ,quickest_T_a0_B(p1=p1,p2=p2,v1=v1,v2=v2,a_max=-a_max )\n",
    "                ,quickest_T_aT_A(p1=p1,p2=p2,v1=v1,v2=v2,a_max=-a_max )\n",
    "                ,quickest_T_aT_B(p1=p1,p2=p2,v1=v1,v2=v2,a_max=-a_max )\n",
    "            ]\n",
    "                \n",
    "    ret = []\n",
    "    for elm in sol:\n",
    "        if elm in RR and elm >= 0:\n",
    "            helper = f_acc(T=elm,p1=p1,p2=p2,v1=v1,v2=v2)\n",
    "\n",
    "            if abs( helper(t=0) ) > 1.01*abs(a_max) or abs( helper(t=elm) ) > 1.01*abs(a_max):\n",
    "                continue\n",
    "            ret.append( N( elm  ) )\n",
    "            \n",
    "    return min(ret)\n",
    "\n",
    "def get_best_T(p1,p2,v1,v2,v_max,a_max):\n",
    "    \n",
    "    if v1 == 0 and v2 == 0:\n",
    "        best_T_v_pos = quickest_T_v0(p1=p1, p2=p2, v_max= v_max) \n",
    "        best_T_v_neg = quickest_T_v0(p1=p1, p2=p2, v_max=-v_max)\n",
    "        \n",
    "    elif p2 > p1:\n",
    "        best_T_v_pos = N( smallest_T_v(p1=p1,p2=p2,v1=v1,v2=v2,v_max= v_max) )\n",
    "        best_T_v_neg = N( smallest_T_v(p1=p1,p2=p2,v1=v1,v2=v2,v_max= v_max) )\n",
    "    else:\n",
    "        best_T_v_pos = N( smallest_T_v(p1=p1,p2=p2,v1=v1,v2=v2,v_max=-v_max) )\n",
    "        best_T_v_neg = N( smallest_T_v(p1=p1,p2=p2,v1=v1,v2=v2,v_max=-v_max) )\n",
    "        \n",
    "    \n",
    "    best_T_a_pos = N( smallest_T_a(p1=p1,p2=p2,v1=v1,v2=v2,a_max= a_max) )\n",
    "    best_T_a_neg = N( smallest_T_a(p1=p1,p2=p2,v1=v1,v2=v2,a_max=-a_max) )\n",
    "    #print('inside get_best_T')\n",
    "    #print(best_T_v,best_T_a_pos,best_T_a_neg)\n",
    "    \n",
    "    #return max( best_T_v_pos,  best_T_v_neg )\n",
    "    return max( best_T_v_pos,  best_T_v_neg,best_T_a_pos,best_T_a_neg )\n",
    "    #return max(best_T_v, best_T_a_pos,best_T_a_neg)\n",
    "    #return best_T_a\n",
    "\n",
    "\n",
    "p_one = 1\n",
    "p_two =  20\n",
    "p_three =  30\n",
    "p_four =  1\n",
    "\n",
    "v_one =  0\n",
    "v_two =  0\n",
    "v_three = 0 \n",
    "v_four = 0\n",
    "\n",
    "v_m = 5\n",
    "a_m = 1\n",
    "    \n",
    "T1_best = get_best_T(p1=p_one\n",
    "                     ,p2=p_two\n",
    "                     ,v1=v_one\n",
    "                     ,v2=v_two\n",
    "                     ,v_max=v_m\n",
    "                     ,a_max=a_m)\n",
    "\n",
    "T2_best = get_best_T(p1=p_two\n",
    "                     ,p2=p_three\n",
    "                     ,v1=v_two\n",
    "                     ,v2=v_three\n",
    "                     ,v_max=v_m\n",
    "                     ,a_max=a_m)\n",
    "\n",
    "T3_best = get_best_T(p1=p_three\n",
    "                     ,p2=p_four\n",
    "                     ,v1=v_three\n",
    "                     ,v2=v_four\n",
    "                     ,v_max=v_m\n",
    "                     ,a_max=a_m)\n",
    "\n",
    "\n",
    "print( T1_best )\n",
    "show_triple_plots( p1=p_one\n",
    "                  ,p2=p_two\n",
    "                  ,p3=p_three\n",
    "                  ,p4=p_four\n",
    "                  \n",
    "                  ,v1=v_one\n",
    "                  ,v2=v_two\n",
    "                  ,v3=v_three\n",
    "                  ,v4=v_four\n",
    "                  \n",
    "                  ,T1=T1_best\n",
    "                  ,T2=T2_best\n",
    "                  ,T3=T3_best\n",
    "                  \n",
    "                  ,v_max=v_m\n",
    "                  ,a_max=a_m) \n"
   ]
  },
  {
   "cell_type": "code",
   "execution_count": 11,
   "metadata": {
    "scrolled": false
   },
   "outputs": [
    {
     "data": {
      "text/plain": [
       "[[{'pos': 1, 'vel': 0, 't': 0, 'jdx': 0, 'idx': 0},\n",
       "  {'pos': 2, 'vel': 0, 't': None, 'jdx': 1, 'idx': 0},\n",
       "  {'pos': 3, 'vel': 0, 't': None, 'jdx': 2, 'idx': 0},\n",
       "  {'pos': 4, 'vel': 0, 't': None, 'jdx': 3, 'idx': 0}],\n",
       " [{'pos': 5, 'vel': 0, 't': 0, 'jdx': 0, 'idx': 1},\n",
       "  {'pos': 2, 'vel': 0, 't': None, 'jdx': 1, 'idx': 1},\n",
       "  {'pos': 3, 'vel': 0, 't': None, 'jdx': 2, 'idx': 1},\n",
       "  {'pos': 8, 'vel': 0, 't': None, 'jdx': 3, 'idx': 1}]]"
      ]
     },
     "execution_count": 11,
     "metadata": {},
     "output_type": "execute_result"
    }
   ],
   "source": [
    "def create_zero_vel(ps):\n",
    "    \n",
    "    res = list( map(lambda x: {'pos': x,'vel':0,'t':None} , ps) )\n",
    "    res = []\n",
    "    for jdx,elm in enumerate(ps):\n",
    "        res.append({'pos': elm,'vel':0,'t':None, 'jdx':jdx})\n",
    "    \n",
    "    res[0]['t'] = 0\n",
    "    return list( res )\n",
    "\n",
    "\n",
    "def create_initial_solution(pss):\n",
    "    \n",
    "    res = list (map( create_zero_vel ,pss ) )\n",
    "    \n",
    "    for idx in range(len(res)):\n",
    "        for jdx in range(len(res[idx])):\n",
    "            res[idx][jdx]['idx'] = idx\n",
    "        \n",
    "    return list(res)\n",
    "\n",
    "\n",
    "create_initial_solution( [ [1,2,3,4] , [5,2,3,8]] ) \n",
    "#create_zero_vel( [-0.01,0,20,40,10,80,90,120,140,140.1] )"
   ]
  },
  {
   "cell_type": "code",
   "execution_count": 12,
   "metadata": {},
   "outputs": [],
   "source": [
    "# inspired by\n",
    "# https://pages.uoregon.edu/dgavin/software/spline.pdf\n",
    "\n",
    "def get_slope_b(t_p,y_p):\n",
    "    \n",
    "    points = len(t_p)\n",
    "\n",
    "    if points ==2:\n",
    "        return [0,0]\n",
    "    \n",
    "    \n",
    "    res = points*[None]\n",
    "    \n",
    "    for i in range(points):\n",
    "\n",
    "        if i==0 or i == points-1:\n",
    "            res[i] = 0\n",
    "            continue\n",
    "            \n",
    "        if (y_p[i+1]-y_p[i+0]) * (y_p[i+0]-y_p[i-1]) <= 0:\n",
    "            res[i] = 0\n",
    "            continue\n",
    "        \n",
    "        A = (t_p[i+1] - t_p[i+0])/(y_p[i+1]-y_p[i+0])\n",
    "        \n",
    "        B = (t_p[i+0] - t_p[i-1])/(y_p[i+0]-y_p[i-1])\n",
    "        \n",
    "        res[i] = 2 / ( A + B )\n",
    "        \n",
    "    return res"
   ]
  },
  {
   "cell_type": "code",
   "execution_count": 13,
   "metadata": {
    "scrolled": false
   },
   "outputs": [],
   "source": [
    "from scipy.interpolate import CubicSpline\n",
    "import numpy as np\n",
    "from scipy.interpolate import interp1d \n",
    "\n",
    "def limit(mini,x,maxi):\n",
    "    \n",
    "    return min(max(mini,x),maxi)\n",
    "\n",
    "def do_T_map(p_mapped,config):\n",
    "    T = []\n",
    "    T_acc = 0\n",
    "    axes_num = len(p_mapped)\n",
    "    for j in range(len(p_mapped[0])-1):\n",
    "        T = []\n",
    "        for i in range(axes_num):\n",
    "            p_1 = p_mapped[i][j+0]['pos']\n",
    "            p_2 = p_mapped[i][j+1]['pos']\n",
    "            \n",
    "            v_1 = p_mapped[i][j+0]['vel']\n",
    "            v_2 = p_mapped[i][j+1]['vel']\n",
    "            \n",
    "            v_m = config[i]['vel_max']\n",
    "            a_m = config[i]['acc_max']\n",
    "\n",
    "            T.append( get_best_T(p1=p_1,p2=p_2,v1=v_1,v2=v_2,v_max=v_m ,a_max=a_m) )\n",
    "        \n",
    "        T_max = N( max(T) )\n",
    "        T_acc = T_acc + T_max\n",
    "\n",
    "        for i in range(axes_num):\n",
    "            p_mapped[i][j+1]['t'] = T_acc\n",
    "        \n",
    "    return p_mapped\n",
    "\n",
    "\n",
    "def do_spline_v_map(p_mapped,config):\n",
    "    \n",
    "    axes_num = len(p_mapped)\n",
    "    \n",
    "    \n",
    "    for i in range(axes_num):\n",
    "          \n",
    "        t_p = [x['t']   for x in p_mapped[i]  ]\n",
    "        y_p = [x['pos'] for x in p_mapped[i]  ]\n",
    "\n",
    "        cs = get_slope_b(t_p,y_p)\n",
    "\n",
    "        for j in range(len(p_mapped[0])):\n",
    "\n",
    "            p_mapped[i][j]['vel'] = limit( -config[i]['vel_max'] \n",
    "\n",
    "                                          , cs[j]\n",
    "\n",
    "                                          , config[i]['vel_max'] \n",
    "                                         )\n",
    "\n",
    "    return p_mapped\n",
    "\n",
    "\n",
    "def iterator(p_mapped,config,num):\n",
    "    #show(p_mapped)\n",
    "    for rep in range(num):\n",
    "        p_mapped = do_T_map(p_mapped,config) \n",
    "        #show(p_mapped)\n",
    "        p_mapped = do_spline_v_map(p_mapped,config)\n",
    "        #show(p_mapped)\n",
    "    \n",
    "    #p_mapped = do_T_map(p_mapped,config)\n",
    "    \n",
    "    return p_mapped\n",
    "\n",
    "\n",
    "\n"
   ]
  },
  {
   "cell_type": "code",
   "execution_count": 14,
   "metadata": {
    "scrolled": false
   },
   "outputs": [],
   "source": [
    "pss = [ [-0.01,0,20,40,10,80,90,120,140,140.1]  , [-0.01,0,3,4,60,80,50,105,140,140.1] ]\n",
    "#pss = [ [0,1,2,3,4,5,6,7,8,9,10] ]\n",
    "config = [ {'vel_max':1,'acc_max':1} , {'vel_max':2,'acc_max':.1} ] #,{'vel_max':1,'acc_max':20} ]\n",
    "\n",
    "start = create_initial_solution(pss)\n",
    "#show(start)\n",
    "\n",
    "\n",
    "#p_mapped = do_T_map(start,config)\n",
    "#p_mapped = do_spline_v_map(p_mapped,config)\n",
    "res = iterator(start,config,10)\n",
    "#print( res )\n",
    "#pretty_print( res )"
   ]
  },
  {
   "cell_type": "code",
   "execution_count": 15,
   "metadata": {},
   "outputs": [
    {
     "data": {
      "text/html": [
       "<div>\n",
       "<style scoped>\n",
       "    .dataframe tbody tr th:only-of-type {\n",
       "        vertical-align: middle;\n",
       "    }\n",
       "\n",
       "    .dataframe tbody tr th {\n",
       "        vertical-align: top;\n",
       "    }\n",
       "\n",
       "    .dataframe thead th {\n",
       "        text-align: right;\n",
       "    }\n",
       "</style>\n",
       "<table border=\"1\" class=\"dataframe\">\n",
       "  <thead>\n",
       "    <tr style=\"text-align: right;\">\n",
       "      <th></th>\n",
       "      <th>_time_</th>\n",
       "      <th>pos_0</th>\n",
       "      <th>vel_0</th>\n",
       "      <th>pos_1</th>\n",
       "      <th>vel_1</th>\n",
       "    </tr>\n",
       "  </thead>\n",
       "  <tbody>\n",
       "    <tr>\n",
       "      <th>0</th>\n",
       "      <td>0</td>\n",
       "      <td>-0.0100000000000000</td>\n",
       "      <td>0</td>\n",
       "      <td>-0.0100000000000000</td>\n",
       "      <td>0</td>\n",
       "    </tr>\n",
       "    <tr>\n",
       "      <th>1</th>\n",
       "      <td>0.508785918383007</td>\n",
       "      <td>0</td>\n",
       "      <td>0.0383177552126024</td>\n",
       "      <td>0</td>\n",
       "      <td>0.0335258411864198</td>\n",
       "    </tr>\n",
       "    <tr>\n",
       "      <th>2</th>\n",
       "      <td>26.8394371259935</td>\n",
       "      <td>20</td>\n",
       "      <td>0.754751330280218</td>\n",
       "      <td>3</td>\n",
       "      <td>0.0564273256530857</td>\n",
       "    </tr>\n",
       "    <tr>\n",
       "      <th>3</th>\n",
       "      <td>53.5063738592338</td>\n",
       "      <td>40</td>\n",
       "      <td>0</td>\n",
       "      <td>4</td>\n",
       "      <td>0.0724153716505996</td>\n",
       "    </tr>\n",
       "    <tr>\n",
       "      <th>4</th>\n",
       "      <td>106.790868436746</td>\n",
       "      <td>10</td>\n",
       "      <td>0</td>\n",
       "      <td>60</td>\n",
       "      <td>0.343831709654152</td>\n",
       "    </tr>\n",
       "    <tr>\n",
       "      <th>5</th>\n",
       "      <td>204.096675007875</td>\n",
       "      <td>80</td>\n",
       "      <td>0.355068014780512</td>\n",
       "      <td>80</td>\n",
       "      <td>0</td>\n",
       "    </tr>\n",
       "    <tr>\n",
       "      <th>6</th>\n",
       "      <td>246.523081879068</td>\n",
       "      <td>90</td>\n",
       "      <td>0.343016958441540</td>\n",
       "      <td>50</td>\n",
       "      <td>0</td>\n",
       "    </tr>\n",
       "    <tr>\n",
       "      <th>7</th>\n",
       "      <td>294.162326733212</td>\n",
       "      <td>120</td>\n",
       "      <td>0.604573146007324</td>\n",
       "      <td>105</td>\n",
       "      <td>1.08160276511733</td>\n",
       "    </tr>\n",
       "    <tr>\n",
       "      <th>8</th>\n",
       "      <td>328.565213101505</td>\n",
       "      <td>140</td>\n",
       "      <td>0.119685746339389</td>\n",
       "      <td>140</td>\n",
       "      <td>0.125209546778209</td>\n",
       "    </tr>\n",
       "    <tr>\n",
       "      <th>9</th>\n",
       "      <td>330.064241430535</td>\n",
       "      <td>140.100000000000</td>\n",
       "      <td>0</td>\n",
       "      <td>140.100000000000</td>\n",
       "      <td>0</td>\n",
       "    </tr>\n",
       "  </tbody>\n",
       "</table>\n",
       "</div>"
      ],
      "text/plain": [
       "              _time_             pos_0               vel_0     \\\n",
       "0                  0  -0.0100000000000000                   0   \n",
       "1  0.508785918383007                    0  0.0383177552126024   \n",
       "2   26.8394371259935                   20   0.754751330280218   \n",
       "3   53.5063738592338                   40                   0   \n",
       "4   106.790868436746                   10                   0   \n",
       "5   204.096675007875                   80   0.355068014780512   \n",
       "6   246.523081879068                   90   0.343016958441540   \n",
       "7   294.162326733212                  120   0.604573146007324   \n",
       "8   328.565213101505                  140   0.119685746339389   \n",
       "9   330.064241430535     140.100000000000                   0   \n",
       "\n",
       "              pos_1               vel_1     \n",
       "0  -0.0100000000000000                   0  \n",
       "1                    0  0.0335258411864198  \n",
       "2                    3  0.0564273256530857  \n",
       "3                    4  0.0724153716505996  \n",
       "4                   60   0.343831709654152  \n",
       "5                   80                   0  \n",
       "6                   50                   0  \n",
       "7                  105    1.08160276511733  \n",
       "8                  140   0.125209546778209  \n",
       "9     140.100000000000                   0  "
      ]
     },
     "execution_count": 15,
     "metadata": {},
     "output_type": "execute_result"
    }
   ],
   "source": [
    "import pandas as pd\n",
    "\n",
    "def print_panda(p_mapped):\n",
    "    \n",
    "    axes_num = len(p_mapped)\n",
    "    \n",
    "    t_p = [x['t']   for x in p_mapped[0]  ]\n",
    "    \n",
    "    data = { '_time_': t_p }\n",
    "    \n",
    "    for i in range(axes_num):\n",
    "        \n",
    "        y_p = [x['pos'] for x in p_mapped[i]  ]\n",
    "        v_p = [x['vel'] for x in p_mapped[i]  ]\n",
    "        \n",
    "        data[f'pos_{i}   '] = y_p \n",
    "        data[f'vel_{i}   '] = v_p\n",
    " \n",
    "    df = pd.DataFrame( data )\n",
    "    \n",
    "    return df\n",
    "\n",
    "df = print_panda(res)\n",
    "df"
   ]
  },
  {
   "cell_type": "code",
   "execution_count": 19,
   "metadata": {},
   "outputs": [
    {
     "data": {
      "image/png": "[encoded data removed]",
      "text/plain": [
       "Graphics Array of size 3 x 1"
      ]
     },
     "execution_count": 19,
     "metadata": {},
     "output_type": "execute_result"
    }
   ],
   "source": [
    "idx = 1\n",
    "jdx = 6\n",
    "\n",
    "v_m = config[idx]['vel_max']\n",
    "a_m = config[idx]['acc_max']\n",
    "\n",
    "p_one=   res[idx][jdx]['pos']\n",
    "p_two=   res[idx][jdx+1]['pos']\n",
    "p_three= res[idx][jdx+2]['pos']\n",
    "p_four=  res[idx][jdx+3]['pos']\n",
    "\n",
    "v_one=   res[idx][jdx]['vel']\n",
    "v_two=   res[idx][jdx+1]['vel']\n",
    "v_three= res[idx][jdx+2]['vel']\n",
    "v_four=  res[idx][jdx+3]['vel']\n",
    "\n",
    "T1 = res[idx][jdx+1]['t'] - res[idx][jdx+0]['t'] \n",
    "T2 = res[idx][jdx+2]['t'] - res[idx][jdx+1]['t']\n",
    "T3 = res[idx][jdx+3]['t'] - res[idx][jdx+2]['t']\n",
    "\n",
    "\n",
    "show_triple_plots( p1=p_one\n",
    "                  ,p2=p_two\n",
    "                  ,p3=p_three\n",
    "                  ,p4=p_four\n",
    "                  \n",
    "                  ,v1=v_one\n",
    "                  ,v2=v_two\n",
    "                  ,v3=v_three\n",
    "                  ,v4=v_four\n",
    "                  \n",
    "                  ,T1=T1\n",
    "                  ,T2=T2\n",
    "                  ,T3=T3\n",
    "                  \n",
    "                  ,v_max=v_m\n",
    "                  ,a_max=a_m)\n"
   ]
  },
  {
   "cell_type": "code",
   "execution_count": null,
   "metadata": {},
   "outputs": [],
   "source": []
  },
  {
   "cell_type": "code",
   "execution_count": null,
   "metadata": {},
   "outputs": [],
   "source": []
  },
  {
   "cell_type": "code",
   "execution_count": 17,
   "metadata": {},
   "outputs": [
    {
     "data": {
      "image/png": "[encoded data removed]",
      "text/plain": [
       "<Figure size 432x288 with 1 Axes>"
      ]
     },
     "metadata": {
      "needs_background": "light"
     },
     "output_type": "display_data"
    }
   ],
   "source": [
    "from scipy.interpolate import BPoly\n",
    "import matplotlib.pyplot as plt\n",
    "import numpy as np\n",
    "\n",
    "t_values = [0.993333, 3.96768 ]\n",
    "f_3MM       = BPoly.from_derivatives( t_values ,[[1.4579,4] , [3.44194,0]])\n",
    "f_3MM_velo  = f_3MM.derivative()\n",
    "f_3MM_acc   = f_3MM_velo.derivative()\n",
    "\n",
    "plt.xlabel('Time')\n",
    "\n",
    "plt.title('pos')\n",
    "x = np.linspace(min(t_values),max(t_values),num=1000)\n",
    "plt.plot(x,f_3MM(x), color = 'green')\n",
    "\n",
    "plt.show()"
   ]
  },
  {
   "cell_type": "code",
   "execution_count": null,
   "metadata": {},
   "outputs": [],
   "source": []
  }
 ],
 "metadata": {
  "kernelspec": {
   "display_name": "SageMath 9.6",
   "language": "sage",
   "name": "sagemath"
  },
  "language_info": {
   "codemirror_mode": {
    "name": "ipython",
    "version": 3
   },
   "file_extension": ".py",
   "mimetype": "text/x-python",
   "name": "python",
   "nbconvert_exporter": "python",
   "pygments_lexer": "ipython3",
   "version": "3.10.4"
  }
 },
 "nbformat": 4,
 "nbformat_minor": 4
}
